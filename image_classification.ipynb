{
 "cells": [
  {
   "cell_type": "markdown",
   "metadata": {
    "collapsed": true,
    "deletable": true,
    "editable": true
   },
   "source": [
    "# Image Classification\n",
    "In this project, I classify images from the [CIFAR-10 dataset](https://www.cs.toronto.edu/~kriz/cifar.html) using CNNs.  The dataset consists of airplanes, dogs, cats, and other objects.\n",
    "## Get the Data"
   ]
  },
  {
   "cell_type": "code",
   "execution_count": 1,
   "metadata": {
    "collapsed": false,
    "deletable": true,
    "editable": true
   },
   "outputs": [
    {
     "name": "stdout",
     "output_type": "stream",
     "text": [
      "All files found!\n"
     ]
    }
   ],
   "source": [
    "from urllib.request import urlretrieve\n",
    "from os.path import isfile, isdir\n",
    "from tqdm import tqdm\n",
    "import problem_unittests as tests\n",
    "import tarfile\n",
    "\n",
    "cifar10_dataset_folder_path = 'cifar-10-batches-py'\n",
    "\n",
    "# Use Floyd's cifar-10 dataset if present\n",
    "floyd_cifar10_location = '/input/cifar-10/python.tar.gz'\n",
    "if isfile(floyd_cifar10_location):\n",
    "    tar_gz_path = floyd_cifar10_location\n",
    "else:\n",
    "    tar_gz_path = 'cifar-10-python.tar.gz'\n",
    "\n",
    "class DLProgress(tqdm):\n",
    "    last_block = 0\n",
    "\n",
    "    def hook(self, block_num=1, block_size=1, total_size=None):\n",
    "        self.total = total_size\n",
    "        self.update((block_num - self.last_block) * block_size)\n",
    "        self.last_block = block_num\n",
    "\n",
    "if not isfile(tar_gz_path):\n",
    "    with DLProgress(unit='B', unit_scale=True, miniters=1, desc='CIFAR-10 Dataset') as pbar:\n",
    "        urlretrieve(\n",
    "            'https://www.cs.toronto.edu/~kriz/cifar-10-python.tar.gz',\n",
    "            tar_gz_path,\n",
    "            pbar.hook)\n",
    "\n",
    "if not isdir(cifar10_dataset_folder_path):\n",
    "    with tarfile.open(tar_gz_path) as tar:\n",
    "        tar.extractall()\n",
    "        tar.close()\n",
    "\n",
    "\n",
    "tests.test_folder_path(cifar10_dataset_folder_path)"
   ]
  },
  {
   "cell_type": "markdown",
   "metadata": {
    "deletable": true,
    "editable": true
   },
   "source": [
    "## Explore the Data\n",
    "The dataset is broken into batches to prevent thr machine from running out of memory.  The CIFAR-10 dataset consists of 5 batches, named `data_batch_1`, `data_batch_2`, etc.. Each batch contains the labels and images that are one of the following:\n",
    "* airplane\n",
    "* automobile\n",
    "* bird\n",
    "* cat\n",
    "* deer\n",
    "* dog\n",
    "* frog\n",
    "* horse\n",
    "* ship\n",
    "* truck"
   ]
  },
  {
   "cell_type": "code",
   "execution_count": 2,
   "metadata": {
    "collapsed": false,
    "deletable": true,
    "editable": true
   },
   "outputs": [
    {
     "name": "stdout",
     "output_type": "stream",
     "text": [
      "\n",
      "Stats of batch 1:\n",
      "Samples: 10000\n",
      "Label Counts: {0: 1005, 1: 974, 2: 1032, 3: 1016, 4: 999, 5: 937, 6: 1030, 7: 1001, 8: 1025, 9: 981}\n",
      "First 20 Labels: [6, 9, 9, 4, 1, 1, 2, 7, 8, 3, 4, 7, 7, 2, 9, 9, 9, 3, 2, 6]\n",
      "\n",
      "Example of Image 5:\n",
      "Image - Min Value: 0 Max Value: 252\n",
      "Image - Shape: (32, 32, 3)\n",
      "Label - Label Id: 1 Name: automobile\n"
     ]
    },
    {
     "data": {
      "image/png": "[encoded data removed]",
      "text/plain": [
       "<matplotlib.figure.Figure at 0x7fe2245b8828>"
      ]
     },
     "metadata": {
      "image/png": {
       "height": 250,
       "width": 253
      }
     },
     "output_type": "display_data"
    }
   ],
   "source": [
    "%matplotlib inline\n",
    "%config InlineBackend.figure_format = 'retina'\n",
    "\n",
    "import helper\n",
    "import numpy as np\n",
    "\n",
    "# Explore the dataset\n",
    "batch_id = 1\n",
    "sample_id = 5\n",
    "helper.display_stats(cifar10_dataset_folder_path, batch_id, sample_id)"
   ]
  },
  {
   "cell_type": "markdown",
   "metadata": {
    "deletable": true,
    "editable": true
   },
   "source": [
    "## Implement Preprocess Functions\n",
    "### Normalize\n",
    "Implements the `normalize` function to take in image data, `x`, and return it as a normalized Numpy array. The values should be in the range of 0 to 1, inclusive.  The return object should be the same shape as `x`."
   ]
  },
  {
   "cell_type": "code",
   "execution_count": 3,
   "metadata": {
    "collapsed": false,
    "deletable": true,
    "editable": true
   },
   "outputs": [
    {
     "name": "stdout",
     "output_type": "stream",
     "text": [
      "Tests Passed\n"
     ]
    }
   ],
   "source": [
    "def normalize(x):\n",
    "    \"\"\"\n",
    "    Normalize a list of sample image data in the range of 0 to 1\n",
    "    : x: List of image data.  The image shape is (32, 32, 3)\n",
    "    : return: Numpy array of normalize data\n",
    "    \"\"\"\n",
    "\n",
    "    return (x-x.min())/(x.max()-x.min())\n",
    "\n",
    "tests.test_normalize(normalize)"
   ]
  },
  {
   "cell_type": "markdown",
   "metadata": {
    "deletable": true,
    "editable": true
   },
   "source": [
    "### One-hot encode\n",
    "Implement the `one_hot_encode` function. The input, `x`, are a list of labels.  Implement the function to return the list of labels as One-Hot encoded Numpy array.  The possible values for labels are 0 to 9. The one-hot encoding function should return the same encoding for each value between each call to `one_hot_encode`. "
   ]
  },
  {
   "cell_type": "code",
   "execution_count": 4,
   "metadata": {
    "collapsed": false,
    "deletable": true,
    "editable": true
   },
   "outputs": [
    {
     "name": "stdout",
     "output_type": "stream",
     "text": [
      "Tests Passed\n"
     ]
    }
   ],
   "source": [
    "def one_hot_encode(x):\n",
    "    \"\"\"\n",
    "    One hot encode a list of sample labels. Return a one-hot encoded vector for each label.\n",
    "    : x: List of sample Labels\n",
    "    : return: Numpy array of one-hot encoded labels\n",
    "    \"\"\"\n",
    "\n",
    "    \n",
    "    ans = np.zeros((len(x),10))\n",
    "    for i,n in enumerate(x):\n",
    "        ans[i,n] = 1\n",
    "    return ans\n",
    "\n",
    "\n",
    "tests.test_one_hot_encode(one_hot_encode)"
   ]
  },
  {
   "cell_type": "markdown",
   "metadata": {
    "deletable": true,
    "editable": true
   },
   "source": [
    "## Preprocess all the data and save it\n",
    "Running the code cell below will preprocess all the CIFAR-10 data and save it to file. The code below also uses 10% of the training data for validation."
   ]
  },
  {
   "cell_type": "code",
   "execution_count": 5,
   "metadata": {
    "collapsed": true,
    "deletable": true,
    "editable": true
   },
   "outputs": [],
   "source": [
    "# Preprocess Training, Validation, and Testing Data\n",
    "helper.preprocess_and_save_data(cifar10_dataset_folder_path, normalize, one_hot_encode)"
   ]
  },
  {
   "cell_type": "markdown",
   "metadata": {
    "deletable": true,
    "editable": true
   },
   "source": [
    "# Check Point"
   ]
  },
  {
   "cell_type": "code",
   "execution_count": 6,
   "metadata": {
    "collapsed": true,
    "deletable": true,
    "editable": true
   },
   "outputs": [],
   "source": [
    "import pickle\n",
    "import problem_unittests as tests\n",
    "import helper\n",
    "\n",
    "# Load the Preprocessed Validation data\n",
    "valid_features, valid_labels = pickle.load(open('preprocess_validation.p', mode='rb'))"
   ]
  },
  {
   "cell_type": "markdown",
   "metadata": {
    "deletable": true,
    "editable": true
   },
   "source": [
    "## Build the network\n",
    "\n",
    "\n",
    "### Input\n",
    "The neural network needs to read the image data, one-hot encoded labels, and dropout keep probability. Implement the following functions\n",
    "* Implement `neural_net_image_input`\n",
    " * Return a [TF Placeholder](https://www.tensorflow.org/api_docs/python/tf/placeholder)\n",
    " * Set the shape using `image_shape` with batch size set to `None`.\n",
    " * Name the TensorFlow placeholder \"x\" using the TensorFlow `name` parameter in the [TF Placeholder](https://www.tensorflow.org/api_docs/python/tf/placeholder).\n",
    "* Implement `neural_net_label_input`\n",
    " * Return a [TF Placeholder](https://www.tensorflow.org/api_docs/python/tf/placeholder)\n",
    " * Set the shape using `n_classes` with batch size set to `None`.\n",
    " * Name the TensorFlow placeholder \"y\" using the TensorFlow `name` parameter in the [TF Placeholder](https://www.tensorflow.org/api_docs/python/tf/placeholder).\n",
    "* Implement `neural_net_keep_prob_input`\n",
    " * Return a [TF Placeholder](https://www.tensorflow.org/api_docs/python/tf/placeholder) for dropout keep probability.\n",
    " * Name the TensorFlow placeholder \"keep_prob\" using the TensorFlow `name` parameter in the [TF Placeholder](https://www.tensorflow.org/api_docs/python/tf/placeholder).\n",
    "\n"
   ]
  },
  {
   "cell_type": "code",
   "execution_count": 7,
   "metadata": {
    "collapsed": false,
    "deletable": true,
    "editable": true
   },
   "outputs": [
    {
     "name": "stdout",
     "output_type": "stream",
     "text": [
      "Image Input Tests Passed.\n",
      "Label Input Tests Passed.\n",
      "Keep Prob Tests Passed.\n"
     ]
    }
   ],
   "source": [
    "import tensorflow as tf\n",
    "\n",
    "def neural_net_image_input(image_shape):\n",
    "    \"\"\"\n",
    "    Return a Tensor for a batch of image input\n",
    "    : image_shape: Shape of the images\n",
    "    : return: Tensor for image input.\n",
    "    \"\"\"\n",
    "\n",
    "    x = tf.placeholder(tf.float32, shape = [None] + list(image_shape),name='x')\n",
    "    return x\n",
    "\n",
    "\n",
    "def neural_net_label_input(n_classes):\n",
    "    \"\"\"\n",
    "    Return a Tensor for a batch of label input\n",
    "    : n_classes: Number of classes\n",
    "    : return: Tensor for label input.\n",
    "    \"\"\"\n",
    "\n",
    "    y = tf.placeholder(tf.float32, shape= [None,n_classes],name='y')\n",
    "    return y\n",
    "\n",
    "\n",
    "def neural_net_keep_prob_input():\n",
    "    \"\"\"\n",
    "    Return a Tensor for keep probability\n",
    "    : return: Tensor for keep probability.\n",
    "    \"\"\"\n",
    "    keep_prob = tf.placeholder(tf.float32,name='keep_prob')\n",
    "    return keep_prob\n",
    "\n",
    "\n",
    "tf.reset_default_graph()\n",
    "tests.test_nn_image_inputs(neural_net_image_input)\n",
    "tests.test_nn_label_inputs(neural_net_label_input)\n",
    "tests.test_nn_keep_prob_inputs(neural_net_keep_prob_input)"
   ]
  },
  {
   "cell_type": "markdown",
   "metadata": {
    "deletable": true,
    "editable": true
   },
   "source": [
    "### Convolution and Max Pooling Layer\n",
    "Omplement the function `conv2d_maxpool` to apply convolution then max pooling:\n",
    "* Create the weight and bias using `conv_ksize`, `conv_num_outputs` and the shape of `x_tensor`.\n",
    "* Apply a convolution to `x_tensor` using weight and `conv_strides`.\n",
    "* Add bias\n",
    "* Add a nonlinear activation to the convolution.\n",
    "* Apply Max Pooling using `pool_ksize` and `pool_strides`.\n"
   ]
  },
  {
   "cell_type": "code",
   "execution_count": 8,
   "metadata": {
    "collapsed": false,
    "deletable": true,
    "editable": true
   },
   "outputs": [
    {
     "name": "stdout",
     "output_type": "stream",
     "text": [
      "Tests Passed\n"
     ]
    }
   ],
   "source": [
    "def conv2d_maxpool(x_tensor, conv_num_outputs, conv_ksize, conv_strides, pool_ksize, pool_strides):\n",
    "    \"\"\"\n",
    "    Apply convolution then max pooling to x_tensor\n",
    "    :param x_tensor: TensorFlow Tensor\n",
    "    :param conv_num_outputs: Number of outputs for the convolutional layer\n",
    "    :param conv_ksize: kernal size 2-D Tuple for the convolutional layer\n",
    "    :param conv_strides: Stride 2-D Tuple for convolution\n",
    "    :param pool_ksize: kernal size 2-D Tuple for pool\n",
    "    :param pool_strides: Stride 2-D Tuple for pool\n",
    "    : return: A tensor that represents convolution and max pooling of x_tensor\n",
    "    \"\"\"\n",
    "    Wc = tf.Variable(tf.truncated_normal((conv_ksize[0],conv_ksize[1],x_tensor.get_shape().as_list()[3],conv_num_outputs),stddev=0.05))\n",
    "    Bc = tf.Variable(tf.zeros(conv_num_outputs))\n",
    "    conv = tf.nn.conv2d(x_tensor, Wc, strides=[1, conv_strides[0], conv_strides[1], 1], padding='SAME')\n",
    "    conv = tf.nn.bias_add(conv, Bc)\n",
    "    conv = tf.nn.relu(conv)\n",
    "    #print (x_tensor, conv_num_outputs, conv_ksize, conv_strides, pool_ksize, pool_strides)\n",
    "    return tf.nn.max_pool(\n",
    "        conv,\n",
    "        ksize=[1, pool_ksize[0], pool_ksize[1], 1],\n",
    "        strides=[1, pool_strides[0], pool_strides[1], 1],\n",
    "        padding='SAME')\n",
    "tests.test_con_pool(conv2d_maxpool)"
   ]
  },
  {
   "cell_type": "markdown",
   "metadata": {
    "deletable": true,
    "editable": true
   },
   "source": [
    "### Flatten Layer\n",
    "Implement the `flatten` function to change the dimension of `x_tensor` from a 4-D tensor to a 2-D tensor.  The output should be the shape (*Batch Size*, *Flattened Image Size*). "
   ]
  },
  {
   "cell_type": "code",
   "execution_count": 9,
   "metadata": {
    "collapsed": false,
    "deletable": true,
    "editable": true
   },
   "outputs": [
    {
     "name": "stdout",
     "output_type": "stream",
     "text": [
      "Tests Passed\n"
     ]
    }
   ],
   "source": [
    "def flatten(x_tensor):\n",
    "    \"\"\"\n",
    "    Flatten x_tensor to (Batch Size, Flattened Image Size)\n",
    "    : x_tensor: A tensor of size (Batch Size, ...), where ... are the image dimensions.\n",
    "    : return: A tensor of size (Batch Size, Flattened Image Size).\n",
    "    \"\"\"\n",
    "    size = 1\n",
    "    #batch = x_tensor.get_shape().as_list()[0]\n",
    "    for i in range(1,(len(x_tensor.get_shape()))):\n",
    "        size *= int(x_tensor.get_shape()[i])\n",
    "    return (tf.reshape(x_tensor, [-1,size]))\n",
    "\n",
    "tests.test_flatten(flatten)"
   ]
  },
  {
   "cell_type": "markdown",
   "metadata": {
    "deletable": true,
    "editable": true
   },
   "source": [
    "### Fully-Connected Layer\n",
    "Implement the `fully_conn` function to apply a fully connected layer to `x_tensor` with the shape (*Batch Size*, *num_outputs*). "
   ]
  },
  {
   "cell_type": "code",
   "execution_count": 10,
   "metadata": {
    "collapsed": false,
    "deletable": true,
    "editable": true
   },
   "outputs": [
    {
     "name": "stdout",
     "output_type": "stream",
     "text": [
      "Tests Passed\n"
     ]
    }
   ],
   "source": [
    "def fully_conn(x_tensor, num_outputs):\n",
    "    \"\"\"\n",
    "    Apply a fully connected layer to x_tensor using weight and bias\n",
    "    : x_tensor: A 2-D tensor where the first dimension is batch size.\n",
    "    : num_outputs: The number of output that the new tensor should be.\n",
    "    : return: A 2-D tensor where the second dimension is num_outputs.\n",
    "    \"\"\"\n",
    "    Wfc = tf.Variable(tf.random_normal([x_tensor.get_shape().as_list()[1], num_outputs],stddev=0.05))\n",
    "    Bfc = tf.Variable(tf.zeros(num_outputs))\n",
    "    fc = tf.add(tf.matmul(x_tensor, Wfc), Bfc)\n",
    "    fc = tf.nn.relu(fc)\n",
    "    return fc\n",
    "\n",
    "\n",
    "\"\"\"\n",
    "DON'T MODIFY ANYTHING IN THIS CELL THAT IS BELOW THIS LINE\n",
    "\"\"\"\n",
    "tests.test_fully_conn(fully_conn)"
   ]
  },
  {
   "cell_type": "markdown",
   "metadata": {
    "deletable": true,
    "editable": true
   },
   "source": [
    "### Output Layer\n",
    "Implement the `output` function to apply a fully connected layer to `x_tensor` with the shape (*Batch Size*, *num_outputs*)."
   ]
  },
  {
   "cell_type": "code",
   "execution_count": 11,
   "metadata": {
    "collapsed": false,
    "deletable": true,
    "editable": true
   },
   "outputs": [
    {
     "name": "stdout",
     "output_type": "stream",
     "text": [
      "Tests Passed\n"
     ]
    }
   ],
   "source": [
    "def output(x_tensor, num_outputs):\n",
    "    \"\"\"\n",
    "    Apply a output layer to x_tensor using weight and bias\n",
    "    : x_tensor: A 2-D tensor where the first dimension is batch size.\n",
    "    : num_outputs: The number of output that the new tensor should be.\n",
    "    : return: A 2-D tensor where the second dimension is num_outputs.\n",
    "    \"\"\"\n",
    "    Wo = tf.Variable(tf.random_normal([x_tensor.get_shape().as_list()[1], num_outputs]))\n",
    "    Bo = tf.Variable(tf.zeros(num_outputs))\n",
    "    out = tf.add(tf.matmul(x_tensor, Wo), Bo)\n",
    "    return out\n",
    "\n",
    "\n",
    "tests.test_output(output)"
   ]
  },
  {
   "cell_type": "markdown",
   "metadata": {
    "deletable": true,
    "editable": true
   },
   "source": [
    "### Create Convolutional Model\n",
    "Implement the function `conv_net` to create a convolutional neural network model. The function takes in a batch of images, `x`, and outputs logits.\n",
    "\n",
    "* Apply 1, 2, or 3 Convolution and Max Pool layers\n",
    "* Apply a Flatten Layer\n",
    "* Apply 1, 2, or 3 Fully Connected Layers\n",
    "* Apply an Output Layer\n",
    "* Return the output\n",
    "* Apply [TensorFlow's Dropout](https://www.tensorflow.org/api_docs/python/tf/nn/dropout) to one or more layers in the model using `keep_prob`. "
   ]
  },
  {
   "cell_type": "code",
   "execution_count": 12,
   "metadata": {
    "collapsed": false,
    "deletable": true,
    "editable": true
   },
   "outputs": [
    {
     "name": "stdout",
     "output_type": "stream",
     "text": [
      "Neural Network Built!\n"
     ]
    }
   ],
   "source": [
    "def conv_net(x, keep_prob):\n",
    "    \"\"\"\n",
    "    Create a convolutional neural network model\n",
    "    : x: Placeholder tensor that holds image data.\n",
    "    : keep_prob: Placeholder tensor that hold dropout keep probability.\n",
    "    : return: Tensor that represents logits\n",
    "    \"\"\"\n",
    "\n",
    "    # Function Definition from Above:\n",
    "    #    conv2d_maxpool(x_tensor, conv_num_outputs, conv_ksize, conv_strides, pool_ksize, pool_strides)\n",
    "    x = conv2d_maxpool(x, 64, (3,3), (1,1), (3,3), (2,2))\n",
    "    x = conv2d_maxpool(x, 128, (1,1), (1,1), (3,3), (1,1))\n",
    "    x = conv2d_maxpool(x, 256, (2,2), (1,1), (3,3), (2,2))\n",
    "\n",
    "    # Function Definition from Above:\n",
    "    #   flatten(x_tensor)\n",
    "    x = flatten(x)\n",
    "\n",
    "    # Function Definition from Above:\n",
    "    #   fully_conn(x_tensor, num_outputs)\n",
    "    x = fully_conn(x, 1024)\n",
    "    x = fully_conn(x, 512)\n",
    "    x = tf.nn.dropout(x, keep_prob)\n",
    "\n",
    "    # Function Definition from Above:\n",
    "    #   output(x_tensor, num_outputs)\n",
    "    \n",
    "\n",
    "    return output(x, 10)\n",
    "\n",
    "\n",
    "##############################\n",
    "## Build the Neural Network ##\n",
    "##############################\n",
    "\n",
    "# Remove previous weights, bias, inputs, etc..\n",
    "tf.reset_default_graph()\n",
    "\n",
    "# Inputs\n",
    "x = neural_net_image_input((32, 32, 3))\n",
    "y = neural_net_label_input(10)\n",
    "keep_prob = neural_net_keep_prob_input()\n",
    "\n",
    "# Model\n",
    "logits = conv_net(x, keep_prob)\n",
    "\n",
    "# Name logits Tensor, so that is can be loaded from disk after training\n",
    "logits = tf.identity(logits, name='logits')\n",
    "\n",
    "# Loss and Optimizer\n",
    "cost = tf.reduce_mean(tf.nn.softmax_cross_entropy_with_logits(logits=logits, labels=y))\n",
    "optimizer = tf.train.AdamOptimizer().minimize(cost)\n",
    "\n",
    "# Accuracy\n",
    "correct_pred = tf.equal(tf.argmax(logits, 1), tf.argmax(y, 1))\n",
    "accuracy = tf.reduce_mean(tf.cast(correct_pred, tf.float32), name='accuracy')\n",
    "\n",
    "tests.test_conv_net(conv_net)"
   ]
  },
  {
   "cell_type": "markdown",
   "metadata": {
    "deletable": true,
    "editable": true
   },
   "source": [
    "## Train the Neural Network\n",
    "### Single Optimization\n",
    "Implement the function `train_neural_network` to do a single optimization.  The optimization should use `optimizer` to optimize in `session` with a `feed_dict` of the following:\n",
    "* `x` for image input\n",
    "* `y` for labels\n",
    "* `keep_prob` for keep probability for dropout\n",
    "\n",
    "This function will be called for each batch, so `tf.global_variables_initializer()` has already been called.\n"
   ]
  },
  {
   "cell_type": "code",
   "execution_count": 13,
   "metadata": {
    "collapsed": false,
    "deletable": true,
    "editable": true
   },
   "outputs": [
    {
     "name": "stdout",
     "output_type": "stream",
     "text": [
      "Tests Passed\n"
     ]
    }
   ],
   "source": [
    "def train_neural_network(session, optimizer, keep_probability, feature_batch, label_batch):\n",
    "    \"\"\"\n",
    "    Optimize the session on a batch of images and labels\n",
    "    : session: Current TensorFlow session\n",
    "    : optimizer: TensorFlow optimizer function\n",
    "    : keep_probability: keep probability\n",
    "    : feature_batch: Batch of Numpy image data\n",
    "    : label_batch: Batch of Numpy label data\n",
    "    \"\"\"\n",
    "    session.run(optimizer, feed_dict={\n",
    "        x: feature_batch,\n",
    "        y: label_batch,\n",
    "        keep_prob: keep_probability})\n",
    "\n",
    "\n",
    "tests.test_train_nn(train_neural_network)"
   ]
  },
  {
   "cell_type": "markdown",
   "metadata": {
    "deletable": true,
    "editable": true
   },
   "source": [
    "### Show Stats\n",
    "Implement the function `print_stats` to print loss and validation accuracy.  Use the global variables `valid_features` and `valid_labels` to calculate validation accuracy.  Use a keep probability of `1.0` to calculate the loss and validation accuracy."
   ]
  },
  {
   "cell_type": "code",
   "execution_count": 14,
   "metadata": {
    "collapsed": true,
    "deletable": true,
    "editable": true
   },
   "outputs": [],
   "source": [
    "def print_stats(session, feature_batch, label_batch, cost, accuracy):\n",
    "    \"\"\"\n",
    "    Print information about loss and validation accuracy\n",
    "    : session: Current TensorFlow session\n",
    "    : feature_batch: Batch of Numpy image data\n",
    "    : label_batch: Batch of Numpy label data\n",
    "    : cost: TensorFlow cost function\n",
    "    : accuracy: TensorFlow accuracy function\n",
    "    \"\"\"\n",
    "    #correct_pred = tf.equal(tf.argmax(logits, 1), tf.argmax(y, 1))\n",
    "    test_acc = session.run(accuracy, feed_dict={\n",
    "        x: valid_features,\n",
    "        y: valid_labels,\n",
    "        keep_prob: 1.})\n",
    "            \n",
    "    test_cost = session.run(cost, feed_dict={\n",
    "        x: feature_batch,\n",
    "        y: label_batch,\n",
    "        keep_prob: 1.})\n",
    "    \n",
    "    print('Validation Accuracy: {}'.format(test_acc))\n",
    "    print('Testing Cost:{}'.format(test_cost))\n",
    "    pass"
   ]
  },
  {
   "cell_type": "markdown",
   "metadata": {
    "deletable": true,
    "editable": true
   },
   "source": [
    "### Hyperparameters\n",
    "Tune the following parameters:\n",
    "* Set `epochs` to the number of iterations until the network stops learning or start overfitting\n",
    "* Set `batch_size` to the highest number that your machine has memory for. \n",
    "* Set `keep_probability` to the probability of keeping a node using dropout"
   ]
  },
  {
   "cell_type": "code",
   "execution_count": 15,
   "metadata": {
    "collapsed": true,
    "deletable": true,
    "editable": true
   },
   "outputs": [],
   "source": [
    "epochs = 15\n",
    "batch_size = 128\n",
    "keep_probability = 0.5"
   ]
  },
  {
   "cell_type": "markdown",
   "metadata": {
    "deletable": true,
    "editable": true
   },
   "source": [
    "### Train on a Single CIFAR-10 Batch\n",
    "Instead of training the neural network on all the CIFAR-10 batches of data, use a single batch. This should save time while we iterate on the model to get a better accuracy.  Once the final validation accuracy is 50% or greater, run the model on all the data in the next section."
   ]
  },
  {
   "cell_type": "code",
   "execution_count": 16,
   "metadata": {
    "collapsed": false,
    "deletable": true,
    "editable": true
   },
   "outputs": [
    {
     "name": "stdout",
     "output_type": "stream",
     "text": [
      "Checking the Training on a Single Batch...\n",
      "Epoch  1, CIFAR-10 Batch 1:  Validation Accuracy: 0.3967999815940857\n",
      "Testing Cost:1.8667941093444824\n",
      "Epoch  2, CIFAR-10 Batch 1:  Validation Accuracy: 0.47359997034072876\n",
      "Testing Cost:1.4596960544586182\n",
      "Epoch  3, CIFAR-10 Batch 1:  Validation Accuracy: 0.48579996824264526\n",
      "Testing Cost:1.1261825561523438\n",
      "Epoch  4, CIFAR-10 Batch 1:  Validation Accuracy: 0.5419999361038208\n",
      "Testing Cost:0.9384537935256958\n",
      "Epoch  5, CIFAR-10 Batch 1:  Validation Accuracy: 0.48379993438720703\n",
      "Testing Cost:0.9197784662246704\n",
      "Epoch  6, CIFAR-10 Batch 1:  Validation Accuracy: 0.569599986076355\n",
      "Testing Cost:0.6165751218795776\n",
      "Epoch  7, CIFAR-10 Batch 1:  Validation Accuracy: 0.5959999561309814\n",
      "Testing Cost:0.5598874092102051\n",
      "Epoch  8, CIFAR-10 Batch 1:  Validation Accuracy: 0.5799999237060547\n",
      "Testing Cost:0.42521780729293823\n",
      "Epoch  9, CIFAR-10 Batch 1:  Validation Accuracy: 0.5765999555587769\n",
      "Testing Cost:0.39857378602027893\n",
      "Epoch 10, CIFAR-10 Batch 1:  Validation Accuracy: 0.586199939250946\n",
      "Testing Cost:0.25847283005714417\n",
      "Epoch 11, CIFAR-10 Batch 1:  Validation Accuracy: 0.6123999357223511\n",
      "Testing Cost:0.1769273728132248\n",
      "Epoch 12, CIFAR-10 Batch 1:  Validation Accuracy: 0.5945999026298523\n",
      "Testing Cost:0.15496060252189636\n",
      "Epoch 13, CIFAR-10 Batch 1:  Validation Accuracy: 0.5835999250411987\n",
      "Testing Cost:0.1952233612537384\n",
      "Epoch 14, CIFAR-10 Batch 1:  Validation Accuracy: 0.5877999067306519\n",
      "Testing Cost:0.12227138876914978\n",
      "Epoch 15, CIFAR-10 Batch 1:  Validation Accuracy: 0.6117998957633972\n",
      "Testing Cost:0.05246346816420555\n"
     ]
    }
   ],
   "source": [
    "print('Checking the Training on a Single Batch...')\n",
    "with tf.Session() as sess:\n",
    "    # Initializing the variables\n",
    "    sess.run(tf.global_variables_initializer())\n",
    "    \n",
    "    # Training cycle\n",
    "    for epoch in range(epochs):\n",
    "        batch_i = 1\n",
    "        for batch_features, batch_labels in helper.load_preprocess_training_batch(batch_i, batch_size):\n",
    "            train_neural_network(sess, optimizer, keep_probability, batch_features, batch_labels)\n",
    "        print('Epoch {:>2}, CIFAR-10 Batch {}:  '.format(epoch + 1, batch_i), end='')\n",
    "        print_stats(sess, batch_features, batch_labels, cost, accuracy)"
   ]
  },
  {
   "cell_type": "markdown",
   "metadata": {
    "deletable": true,
    "editable": true
   },
   "source": [
    "### Fully Train the Model\n",
    "Try it with all five batches."
   ]
  },
  {
   "cell_type": "code",
   "execution_count": 17,
   "metadata": {
    "collapsed": false,
    "deletable": true,
    "editable": true
   },
   "outputs": [
    {
     "name": "stdout",
     "output_type": "stream",
     "text": [
      "Training...\n",
      "Epoch  1, CIFAR-10 Batch 1:  Validation Accuracy: 0.33480000495910645\n",
      "Testing Cost:1.9397611618041992\n",
      "Epoch  1, CIFAR-10 Batch 2:  Validation Accuracy: 0.4163999557495117\n",
      "Testing Cost:1.5422526597976685\n",
      "Epoch  1, CIFAR-10 Batch 3:  Validation Accuracy: 0.4899999499320984\n",
      "Testing Cost:1.2259893417358398\n",
      "Epoch  1, CIFAR-10 Batch 4:  Validation Accuracy: 0.5439999103546143\n",
      "Testing Cost:1.2225360870361328\n",
      "Epoch  1, CIFAR-10 Batch 5:  Validation Accuracy: 0.5743999481201172\n",
      "Testing Cost:1.123120903968811\n",
      "Epoch  2, CIFAR-10 Batch 1:  Validation Accuracy: 0.5725998878479004\n",
      "Testing Cost:1.2632147073745728\n",
      "Epoch  2, CIFAR-10 Batch 2:  Validation Accuracy: 0.567599892616272\n",
      "Testing Cost:0.9673777222633362\n",
      "Epoch  2, CIFAR-10 Batch 3:  Validation Accuracy: 0.6187999248504639\n",
      "Testing Cost:0.8503239750862122\n",
      "Epoch  2, CIFAR-10 Batch 4:  Validation Accuracy: 0.6221998929977417\n",
      "Testing Cost:0.9754026532173157\n",
      "Epoch  2, CIFAR-10 Batch 5:  Validation Accuracy: 0.6569998860359192\n",
      "Testing Cost:0.760123610496521\n",
      "Epoch  3, CIFAR-10 Batch 1:  Validation Accuracy: 0.631399929523468\n",
      "Testing Cost:0.8434321284294128\n",
      "Epoch  3, CIFAR-10 Batch 2:  Validation Accuracy: 0.6395999193191528\n",
      "Testing Cost:0.7442930340766907\n",
      "Epoch  3, CIFAR-10 Batch 3:  Validation Accuracy: 0.658799946308136\n",
      "Testing Cost:0.505842924118042\n",
      "Epoch  3, CIFAR-10 Batch 4:  Validation Accuracy: 0.654999852180481\n",
      "Testing Cost:0.7468050718307495\n",
      "Epoch  3, CIFAR-10 Batch 5:  Validation Accuracy: 0.6753998398780823\n",
      "Testing Cost:0.5809503197669983\n",
      "Epoch  4, CIFAR-10 Batch 1:  Validation Accuracy: 0.6835998892784119\n",
      "Testing Cost:0.5556334853172302\n",
      "Epoch  4, CIFAR-10 Batch 2:  Validation Accuracy: 0.6811999082565308\n",
      "Testing Cost:0.5354433059692383\n",
      "Epoch  4, CIFAR-10 Batch 3:  Validation Accuracy: 0.6889998316764832\n",
      "Testing Cost:0.3590087592601776\n",
      "Epoch  4, CIFAR-10 Batch 4:  Validation Accuracy: 0.6619998812675476\n",
      "Testing Cost:0.55948805809021\n",
      "Epoch  4, CIFAR-10 Batch 5:  Validation Accuracy: 0.7041998505592346\n",
      "Testing Cost:0.432991087436676\n",
      "Epoch  5, CIFAR-10 Batch 1:  Validation Accuracy: 0.6881998777389526\n",
      "Testing Cost:0.5104367733001709\n",
      "Epoch  5, CIFAR-10 Batch 2:  Validation Accuracy: 0.6915998458862305\n",
      "Testing Cost:0.4560009837150574\n",
      "Epoch  5, CIFAR-10 Batch 3:  Validation Accuracy: 0.7021998763084412\n",
      "Testing Cost:0.32896527647972107\n",
      "Epoch  5, CIFAR-10 Batch 4:  Validation Accuracy: 0.6873998045921326\n",
      "Testing Cost:0.4372490644454956\n",
      "Epoch  5, CIFAR-10 Batch 5:  Validation Accuracy: 0.7113998532295227\n",
      "Testing Cost:0.2580193281173706\n",
      "Epoch  6, CIFAR-10 Batch 1:  Validation Accuracy: 0.6903998255729675\n",
      "Testing Cost:0.37217214703559875\n",
      "Epoch  6, CIFAR-10 Batch 2:  Validation Accuracy: 0.7095998525619507\n",
      "Testing Cost:0.21125182509422302\n",
      "Epoch  6, CIFAR-10 Batch 3:  Validation Accuracy: 0.7153998613357544\n",
      "Testing Cost:0.1978062391281128\n",
      "Epoch  6, CIFAR-10 Batch 4:  Validation Accuracy: 0.7017998695373535\n",
      "Testing Cost:0.24893680214881897\n",
      "Epoch  6, CIFAR-10 Batch 5:  Validation Accuracy: 0.7137998938560486\n",
      "Testing Cost:0.20109447836875916\n",
      "Epoch  7, CIFAR-10 Batch 1:  Validation Accuracy: 0.6935997605323792\n",
      "Testing Cost:0.22852438688278198\n",
      "Epoch  7, CIFAR-10 Batch 2:  Validation Accuracy: 0.7111998200416565\n",
      "Testing Cost:0.17378757894039154\n",
      "Epoch  7, CIFAR-10 Batch 3:  Validation Accuracy: 0.7165998220443726\n",
      "Testing Cost:0.1659543216228485\n",
      "Epoch  7, CIFAR-10 Batch 4:  Validation Accuracy: 0.7007998824119568\n",
      "Testing Cost:0.25702863931655884\n",
      "Epoch  7, CIFAR-10 Batch 5:  Validation Accuracy: 0.7103998064994812\n",
      "Testing Cost:0.16935570538043976\n",
      "Epoch  8, CIFAR-10 Batch 1:  Validation Accuracy: 0.7029998302459717\n",
      "Testing Cost:0.1973424255847931\n",
      "Epoch  8, CIFAR-10 Batch 2:  Validation Accuracy: 0.7045998573303223\n",
      "Testing Cost:0.16254857182502747\n",
      "Epoch  8, CIFAR-10 Batch 3:  Validation Accuracy: 0.697399914264679\n",
      "Testing Cost:0.09031632542610168\n",
      "Epoch  8, CIFAR-10 Batch 4:  Validation Accuracy: 0.700999915599823\n",
      "Testing Cost:0.12542366981506348\n",
      "Epoch  8, CIFAR-10 Batch 5:  Validation Accuracy: 0.7145999073982239\n",
      "Testing Cost:0.13496816158294678\n",
      "Epoch  9, CIFAR-10 Batch 1:  Validation Accuracy: 0.7105998396873474\n",
      "Testing Cost:0.11004835367202759\n",
      "Epoch  9, CIFAR-10 Batch 2:  Validation Accuracy: 0.7203998565673828\n",
      "Testing Cost:0.09281983971595764\n",
      "Epoch  9, CIFAR-10 Batch 3:  Validation Accuracy: 0.7015998959541321\n",
      "Testing Cost:0.10552553087472916\n",
      "Epoch  9, CIFAR-10 Batch 4:  Validation Accuracy: 0.7025998830795288\n",
      "Testing Cost:0.08687856793403625\n",
      "Epoch  9, CIFAR-10 Batch 5:  Validation Accuracy: 0.6963998675346375\n",
      "Testing Cost:0.11810484528541565\n",
      "Epoch 10, CIFAR-10 Batch 1:  Validation Accuracy: 0.7043998837471008\n",
      "Testing Cost:0.08992920070886612\n",
      "Epoch 10, CIFAR-10 Batch 2:  Validation Accuracy: 0.6977998614311218\n",
      "Testing Cost:0.05200148746371269\n",
      "Epoch 10, CIFAR-10 Batch 3:  Validation Accuracy: 0.715599775314331\n",
      "Testing Cost:0.0686529204249382\n",
      "Epoch 10, CIFAR-10 Batch 4:  Validation Accuracy: 0.692599892616272\n",
      "Testing Cost:0.08660713583230972\n",
      "Epoch 10, CIFAR-10 Batch 5:  Validation Accuracy: 0.6979998350143433\n",
      "Testing Cost:0.05783424153923988\n",
      "Epoch 11, CIFAR-10 Batch 1:  Validation Accuracy: 0.7059997916221619\n",
      "Testing Cost:0.10120760649442673\n",
      "Epoch 11, CIFAR-10 Batch 2:  Validation Accuracy: 0.7067998051643372\n",
      "Testing Cost:0.04165046662092209\n",
      "Epoch 11, CIFAR-10 Batch 3:  Validation Accuracy: 0.7223998308181763\n",
      "Testing Cost:0.023681972175836563\n",
      "Epoch 11, CIFAR-10 Batch 4:  Validation Accuracy: 0.6923998594284058\n",
      "Testing Cost:0.028689557686448097\n",
      "Epoch 11, CIFAR-10 Batch 5:  Validation Accuracy: 0.699199914932251\n",
      "Testing Cost:0.03861015662550926\n",
      "Epoch 12, CIFAR-10 Batch 1:  Validation Accuracy: 0.7113998532295227\n",
      "Testing Cost:0.04106723517179489\n",
      "Epoch 12, CIFAR-10 Batch 2:  Validation Accuracy: 0.7049999237060547\n",
      "Testing Cost:0.04879874363541603\n",
      "Epoch 12, CIFAR-10 Batch 3:  Validation Accuracy: 0.7133998274803162\n",
      "Testing Cost:0.014193006791174412\n",
      "Epoch 12, CIFAR-10 Batch 4:  Validation Accuracy: 0.710399866104126\n",
      "Testing Cost:0.061946071684360504\n",
      "Epoch 12, CIFAR-10 Batch 5:  Validation Accuracy: 0.6989998817443848\n",
      "Testing Cost:0.04355333372950554\n",
      "Epoch 13, CIFAR-10 Batch 1:  Validation Accuracy: 0.7133997678756714\n",
      "Testing Cost:0.0442153662443161\n",
      "Epoch 13, CIFAR-10 Batch 2:  Validation Accuracy: 0.6919997930526733\n",
      "Testing Cost:0.03551791235804558\n",
      "Epoch 13, CIFAR-10 Batch 3:  Validation Accuracy: 0.7095998525619507\n",
      "Testing Cost:0.014007339254021645\n",
      "Epoch 13, CIFAR-10 Batch 4:  Validation Accuracy: 0.6927998661994934\n",
      "Testing Cost:0.03171312063932419\n",
      "Epoch 13, CIFAR-10 Batch 5:  Validation Accuracy: 0.6841998100280762\n",
      "Testing Cost:0.04384190961718559\n",
      "Epoch 14, CIFAR-10 Batch 1:  Validation Accuracy: 0.7181998491287231\n",
      "Testing Cost:0.024261612445116043\n",
      "Epoch 14, CIFAR-10 Batch 2:  Validation Accuracy: 0.6777999401092529\n",
      "Testing Cost:0.03707542270421982\n",
      "Epoch 14, CIFAR-10 Batch 3:  Validation Accuracy: 0.7055999040603638\n",
      "Testing Cost:0.010752713307738304\n",
      "Epoch 14, CIFAR-10 Batch 4:  Validation Accuracy: 0.6881997585296631\n",
      "Testing Cost:0.02229037508368492\n",
      "Epoch 14, CIFAR-10 Batch 5:  Validation Accuracy: 0.7055999040603638\n",
      "Testing Cost:0.014278762973845005\n",
      "Epoch 15, CIFAR-10 Batch 1:  Validation Accuracy: 0.7147998809814453\n",
      "Testing Cost:0.02546456828713417\n",
      "Epoch 15, CIFAR-10 Batch 2:  Validation Accuracy: 0.6955999135971069\n",
      "Testing Cost:0.009953089989721775\n",
      "Epoch 15, CIFAR-10 Batch 3:  Validation Accuracy: 0.712199866771698\n",
      "Testing Cost:0.020394161343574524\n",
      "Epoch 15, CIFAR-10 Batch 4:  Validation Accuracy: 0.6925998330116272\n",
      "Testing Cost:0.02446681819856167\n",
      "Epoch 15, CIFAR-10 Batch 5:  Validation Accuracy: 0.7047998309135437\n",
      "Testing Cost:0.007552942261099815\n"
     ]
    }
   ],
   "source": [
    "save_model_path = './image_classification'\n",
    "\n",
    "print('Training...')\n",
    "with tf.Session() as sess:\n",
    "    # Initializing the variables\n",
    "    sess.run(tf.global_variables_initializer())\n",
    "    \n",
    "    # Training cycle\n",
    "    for epoch in range(epochs):\n",
    "        # Loop over all batches\n",
    "        n_batches = 5\n",
    "        for batch_i in range(1, n_batches + 1):\n",
    "            for batch_features, batch_labels in helper.load_preprocess_training_batch(batch_i, batch_size):\n",
    "                train_neural_network(sess, optimizer, keep_probability, batch_features, batch_labels)\n",
    "            print('Epoch {:>2}, CIFAR-10 Batch {}:  '.format(epoch + 1, batch_i), end='')\n",
    "            print_stats(sess, batch_features, batch_labels, cost, accuracy)\n",
    "            \n",
    "    # Save Model\n",
    "    saver = tf.train.Saver()\n",
    "    save_path = saver.save(sess, save_model_path)"
   ]
  },
  {
   "cell_type": "markdown",
   "metadata": {
    "deletable": true,
    "editable": true
   },
   "source": [
    "# Checkpoint\n",
    "The model has been saved to disk.\n",
    "## Test Model"
   ]
  },
  {
   "cell_type": "code",
   "execution_count": 18,
   "metadata": {
    "collapsed": false,
    "deletable": true,
    "editable": true,
    "scrolled": true
   },
   "outputs": [
    {
     "name": "stdout",
     "output_type": "stream",
     "text": [
      "INFO:tensorflow:Restoring parameters from ./image_classification\n",
      "Testing Accuracy: 0.696004746835443\n",
      "\n"
     ]
    },
    {
     "data": {
      "image/png": "[encoded data removed]",
      "text/plain": [
       "<matplotlib.figure.Figure at 0x7fe22f7b53c8>"
      ]
     },
     "metadata": {
      "image/png": {
       "height": 319,
       "width": 355
      }
     },
     "output_type": "display_data"
    }
   ],
   "source": [
    "%matplotlib inline\n",
    "%config InlineBackend.figure_format = 'retina'\n",
    "\n",
    "import tensorflow as tf\n",
    "import pickle\n",
    "import helper\n",
    "import random\n",
    "\n",
    "# Set batch size if not already set\n",
    "try:\n",
    "    if batch_size:\n",
    "        pass\n",
    "except NameError:\n",
    "    batch_size = 64\n",
    "\n",
    "save_model_path = './image_classification'\n",
    "n_samples = 4\n",
    "top_n_predictions = 3\n",
    "\n",
    "def test_model():\n",
    "    \"\"\"\n",
    "    Test the saved model against the test dataset\n",
    "    \"\"\"\n",
    "\n",
    "    test_features, test_labels = pickle.load(open('preprocess_test.p', mode='rb'))\n",
    "    loaded_graph = tf.Graph()\n",
    "\n",
    "    with tf.Session(graph=loaded_graph) as sess:\n",
    "        # Load model\n",
    "        loader = tf.train.import_meta_graph(save_model_path + '.meta')\n",
    "        loader.restore(sess, save_model_path)\n",
    "\n",
    "        # Get Tensors from loaded model\n",
    "        loaded_x = loaded_graph.get_tensor_by_name('x:0')\n",
    "        loaded_y = loaded_graph.get_tensor_by_name('y:0')\n",
    "        loaded_keep_prob = loaded_graph.get_tensor_by_name('keep_prob:0')\n",
    "        loaded_logits = loaded_graph.get_tensor_by_name('logits:0')\n",
    "        loaded_acc = loaded_graph.get_tensor_by_name('accuracy:0')\n",
    "        \n",
    "        # Get accuracy in batches for memory limitations\n",
    "        test_batch_acc_total = 0\n",
    "        test_batch_count = 0\n",
    "        \n",
    "        for test_feature_batch, test_label_batch in helper.batch_features_labels(test_features, test_labels, batch_size):\n",
    "            test_batch_acc_total += sess.run(\n",
    "                loaded_acc,\n",
    "                feed_dict={loaded_x: test_feature_batch, loaded_y: test_label_batch, loaded_keep_prob: 1.0})\n",
    "            test_batch_count += 1\n",
    "\n",
    "        print('Testing Accuracy: {}\\n'.format(test_batch_acc_total/test_batch_count))\n",
    "\n",
    "        # Print Random Samples\n",
    "        random_test_features, random_test_labels = tuple(zip(*random.sample(list(zip(test_features, test_labels)), n_samples)))\n",
    "        random_test_predictions = sess.run(\n",
    "            tf.nn.top_k(tf.nn.softmax(loaded_logits), top_n_predictions),\n",
    "            feed_dict={loaded_x: random_test_features, loaded_y: random_test_labels, loaded_keep_prob: 1.0})\n",
    "        helper.display_image_predictions(random_test_features, random_test_labels, random_test_predictions)\n",
    "\n",
    "\n",
    "test_model()"
   ]
  }
 ],
 "metadata": {
  "kernelspec": {
   "display_name": "Python 3",
   "language": "python",
   "name": "python3"
  },
  "language_info": {
   "codemirror_mode": {
    "name": "ipython",
    "version": 3
   },
   "file_extension": ".py",
   "mimetype": "text/x-python",
   "name": "python",
   "nbconvert_exporter": "python",
   "pygments_lexer": "ipython3",
   "version": "3.6.0"
  }
 },
 "nbformat": 4,
 "nbformat_minor": 1
}
